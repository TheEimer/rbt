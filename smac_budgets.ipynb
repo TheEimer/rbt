{
 "cells": [
  {
   "cell_type": "code",
   "execution_count": 2,
   "metadata": {},
   "outputs": [],
   "source": [
    "from smac.intensifier.successive_halving import SuccessiveHalving\n",
    "from smac.intensifier.hyperband import Hyperband\n",
    "import numpy as np"
   ]
  },
  {
   "cell_type": "code",
   "execution_count": 3,
   "metadata": {},
   "outputs": [],
   "source": [
    "total_budget_allowed = 70000\n",
    "min_budget = 10\n",
    "max_budget = 250\n",
    "eta = 2\n",
    "intensifier = Hyperband"
   ]
  },
  {
   "cell_type": "code",
   "execution_count": 4,
   "metadata": {},
   "outputs": [],
   "source": [
    "_s_max = intensifier._get_max_iterations(eta, max_budget, min_budget)\n",
    "\n",
    "_max_iterations: dict[int, int] = {}\n",
    "_n_configs_in_stage: dict[int, list] = {}\n",
    "_budgets_in_stage: dict[int, list] = {}\n",
    "\n",
    "total_trials = 0\n",
    "total_budget = 0\n",
    "for i in range(_s_max + 1):\n",
    "    max_iter = _s_max - i\n",
    "\n",
    "    _budgets_in_stage[i], _n_configs_in_stage[i] = SuccessiveHalving._compute_configs_and_budgets_for_stages(\n",
    "        eta, max_budget, max_iter, _s_max\n",
    "    )\n",
    "    _max_iterations[i] = max_iter + 1\n",
    "    total_budget += np.sum([b * n for b, n in zip(_budgets_in_stage[i], _n_configs_in_stage[i])])\n",
    "    total_trials += np.sum(_n_configs_in_stage[i])"
   ]
  },
  {
   "cell_type": "code",
   "execution_count": 6,
   "metadata": {},
   "outputs": [
    {
     "name": "stdout",
     "output_type": "stream",
     "text": [
      "n_brackets 4\n",
      "budgets per stage {0: [15.625, 31.25, 62.5, 125.0, 250.0], 1: [31.25, 62.5, 125.0, 250.0], 2: [62.5, 125.0, 250.0], 3: [125.0, 250.0], 4: [250.0]}\n",
      "n configs per stage {0: [16, 8, 4, 2, 1], 1: [10, 5, 2, 1], 2: [7, 3, 1], 3: [5, 2], 4: [5]}\n",
      "total number of trials 72\n",
      "total budget 5812.5\n",
      "is in total budget: True\n"
     ]
    }
   ],
   "source": [
    "print(\"n_brackets\", _s_max)\n",
    "print(\"budgets per stage\", _budgets_in_stage)\n",
    "print(\"n configs per stage\", _n_configs_in_stage)\n",
    "print(\"total number of trials\", total_trials)\n",
    "print(\"total budget\",  total_budget)\n",
    "print(\"is in total budget:\", total_budget < total_budget_allowed)"
   ]
  }
 ],
 "metadata": {
  "kernelspec": {
   "display_name": "rbt",
   "language": "python",
   "name": "python3"
  },
  "language_info": {
   "codemirror_mode": {
    "name": "ipython",
    "version": 3
   },
   "file_extension": ".py",
   "mimetype": "text/x-python",
   "name": "python",
   "nbconvert_exporter": "python",
   "pygments_lexer": "ipython3",
   "version": "3.10.15"
  }
 },
 "nbformat": 4,
 "nbformat_minor": 2
}
